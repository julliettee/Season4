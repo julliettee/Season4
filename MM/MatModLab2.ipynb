{
  "nbformat": 4,
  "nbformat_minor": 0,
  "metadata": {
    "colab": {
      "name": "MathModLab2.ipynb",
      "provenance": []
    },
    "kernelspec": {
      "name": "python3",
      "display_name": "Python 3"
    },
    "language_info": {
      "name": "python"
    }
  },
  "cells": [
    {
      "cell_type": "markdown",
      "source": [
        "# Лабораторная работа №2. Моделирование дискретных СВ. \n",
        "\n",
        "# Дроздова Юлия\n",
        "## Вариант 3\n",
        "\n",
        "Смоделировать дискретную случайную величину (задания на стр. 18-22). Исследовать точность моделирования.\n",
        "\n",
        "1)\tОсуществить моделирование n = 1000 реализаций СВ из заданных дискретных распределений. \\\n",
        "2)\tВывести на экран несмещенные оценки математического ожидания и дисперсии, сравнить их с истинными значениями. \\\n",
        "3)\tДля каждой из случайных величин построить свой χ2-критерием Пирсона с уровнем значимость ε=0.05. Проверить, что вероятность ошибки I рода стремится к 0.05.\\\n",
        "4)\tОсуществить проверку каждой из сгенерированных выборок каждым из построенных критериев.\n"
      ],
      "metadata": {
        "id": "kukwrHTD_9iR"
      }
    },
    {
      "cell_type": "code",
      "execution_count": 1,
      "metadata": {
        "id": "mUBE_hEw_8Nl"
      },
      "outputs": [],
      "source": [
        "# Критерий Пирсона\n",
        "\n",
        "import math\n",
        "import matplotlib.pyplot as plt\n",
        "import scipy.stats as sps\n",
        "\n",
        "def pirson_stat(values, intervals, distribution, param1):\n",
        "    stat = 0\n",
        "    step = (max(values) - min(values)) / intervals\n",
        "\n",
        "    x = min(values)\n",
        "    y = x + step\n",
        "    for i in range(1, INTERVALS):\n",
        "        observed = 0\n",
        "        for val in values:\n",
        "            if x < val <= y:\n",
        "                observed += 1\n",
        "\n",
        "        expected = len(values) * (distribution(y, param1) - distribution(x, param1))\n",
        "        stat += ((observed - expected) ** 2 + 1e-9) / (expected + 1e-9)\n",
        "        x = y\n",
        "        y += step\n",
        "\n",
        "    return stat"
      ]
    },
    {
      "cell_type": "code",
      "source": [
        "# Функции распределения\n",
        "\n",
        "def poiss_func(x, p):\n",
        "    return sps.poisson.cdf(mu =p, k = x)\n",
        "\n",
        "def bern_func(x, p):\n",
        "    return sps.bernoulli.cdf(p=p, k=x)"
      ],
      "metadata": {
        "id": "EO-t7GOxAmow"
      },
      "execution_count": 2,
      "outputs": []
    },
    {
      "cell_type": "code",
      "source": [
        "INTERVALS = 20\n",
        "PIRSON_QUANTIL = 31.4\n",
        "N = 1\n",
        "P = 0.6\n",
        "\n",
        "data_bern = sps.bernoulli(P).rvs(1000)\n",
        "E = sum(data_bern) / len(data_bern)\n",
        "D = sum(math.pow(x - E, 2) for x in data_bern) / len(data_bern)\n",
        "print('Распределение Бернулли:')\n",
        "print('Истинное математическое ожидание: %f. Полученное в результате моделирования: %F' % (P, E))\n",
        "print('Истинная дисперсия: %f. Полученная в результате моделирования: %f' % (P * (1 - P), D))\n",
        "pirson = pirson_stat(data_bern, INTERVALS, bern_func, P)\n",
        "print(\"Критерий Пирсона: %f, квантиль: %f\" % (pirson, PIRSON_QUANTIL))\n",
        "\n",
        "P = 0.5\n",
        "data_poiss = sps.poisson(P).rvs(1000)\n",
        "E = sum(data_poiss) / len(data_poiss)\n",
        "D = sum(math.pow(x - E, 2) for x in data_poiss) / len(data_poiss)\n",
        "print('Распределение Пуассона:')\n",
        "print('Истинное математическое ожидание: %f. Полученное в результате моделирования: %F' % (P, E))\n",
        "print('Истинная дисперсия: %f. Полученная в результате моделирования: %f' % (P, D))\n",
        "pirson = pirson_stat(data_poiss, INTERVALS, poiss_func, 0.5)\n",
        "print(\"Критерий Пирсона: %f, квантиль: %f\" % (pirson, PIRSON_QUANTIL))\n",
        "\n",
        "figure, axis = plt.subplots(2)\n",
        "figure.set_figheight(7)\n",
        "\n",
        "axis[0].hist(data_bern, 20)\n",
        "axis[0].set_title(\"Bernoulli\")\n",
        "\n",
        "axis[1].hist(data_poiss, 20)\n",
        "axis[1].set_title(\"Poisson\")\n",
        "plt.show()"
      ],
      "metadata": {
        "colab": {
          "base_uri": "https://localhost:8080/",
          "height": 583
        },
        "id": "cxUgPEZ0A0up",
        "outputId": "a726aa14-2678-4bac-f429-e22ba5279d97"
      },
      "execution_count": 3,
      "outputs": [
        {
          "output_type": "stream",
          "name": "stdout",
          "text": [
            "Распределение Бернулли:\n",
            "Истинное математическое ожидание: 0.600000. Полученное в результате моделирования: 0.604000\n",
            "Истинная дисперсия: 0.240000. Полученная в результате моделирования: 0.239184\n",
            "Критерий Пирсона: 19.000000, квантиль: 31.400000\n",
            "Распределение Пуассона:\n",
            "Истинное математическое ожидание: 0.500000. Полученное в результате моделирования: 0.516000\n",
            "Истинная дисперсия: 0.500000. Полученная в результате моделирования: 0.519744\n",
            "Критерий Пирсона: 17.255236, квантиль: 31.400000\n"
          ]
        },
        {
          "output_type": "display_data",
          "data": {
            "text/plain": [
              "<Figure size 432x504 with 2 Axes>"
            ],
            "image/png": "[encoded data removed]"
          },
          "metadata": {
            "needs_background": "light"
          }
        }
      ]
    }
  ]
}