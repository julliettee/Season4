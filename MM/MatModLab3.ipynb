{
  "nbformat": 4,
  "nbformat_minor": 0,
  "metadata": {
    "colab": {
      "name": "Lab3.ipynb",
      "provenance": [],
      "collapsed_sections": []
    },
    "kernelspec": {
      "name": "python3",
      "display_name": "Python 3"
    },
    "language_info": {
      "name": "python"
    }
  },
  "cells": [
    {
      "cell_type": "markdown",
      "source": [
        "# Лабораторная работа №3. Моделирование непрерывных СВ.\n",
        "Смоделировать непрерывную  случайную величину (задания на стр. 25-47). Исследовать точность моделирования.\n",
        "\n",
        "1)\tОсуществить моделирование n = 1000 реализаций СВ из нормального закона распределения N(m, s2) с заданными параметрами. Вычислить несмещенные оценки математического ожидания и дисперсии, сравнить их с истинными. \n",
        "\n",
        "2)\tСмоделировать n = 1000 СВ из заданных абсолютно непрерывных распределений. Вычислить несмещенные оценки математического ожидания и дисперсии, сравнить их с истинными значениями (если это возможно). \n",
        "\n",
        "3)\tДля каждой из случайных величин построить свой критерий Колмогорова с уровнем значимость ε=0.05. Проверить, что вероятность ошибки I рода стремится к 0.05.\n",
        "\n",
        "4)\tДля каждой из случайных величин построить свой χ2-критерий Пирсона с уровнем значимость ε=0.05. Проверить, что вероятность ошибки I рода стремится к 0.05.\n",
        "\n",
        "5)\tОсуществить проверку каждой из сгенерированных выборок каждым из построенных критериев.\n"
      ],
      "metadata": {
        "id": "-JSrh70NPdlp"
      }
    },
    {
      "cell_type": "code",
      "execution_count": null,
      "metadata": {
        "colab": {
          "base_uri": "https://localhost:8080/",
          "height": 1000
        },
        "id": "mz3krIg7Fs3x",
        "outputId": "18ac8a81-dc63-437c-a118-be5faecce2c9"
      },
      "outputs": [
        {
          "output_type": "stream",
          "name": "stdout",
          "text": [
            "\n",
            "\n",
            "\n",
            "Нормальное распределние:\n"
          ]
        },
        {
          "output_type": "display_data",
          "data": {
            "text/plain": [
              "<Figure size 432x288 with 1 Axes>"
            ],
            "image/png": "[encoded data removed]"
          },
          "metadata": {
            "needs_background": "light"
          }
        },
        {
          "output_type": "stream",
          "name": "stdout",
          "text": [
            "Истинное математическое ожидание E =  4.000000\n",
            "Истинная дисперсия D =  25.000000\n",
            "Полученное в результате моделирования E =  4.138588\n",
            "Полученная в результате моделирования D =  24.706887\n",
            "Критерий Пирсона: 22.924215, квантиль: 43.800000\n",
            "Критерий Колмагорова: 0.431721, квантиль: 1.630000\n",
            "\n",
            "\n",
            "\n",
            "Распределение Вейбулла:\n"
          ]
        },
        {
          "output_type": "display_data",
          "data": {
            "text/plain": [
              "<Figure size 432x288 with 1 Axes>"
            ],
            "image/png": "[encoded data removed]"
          },
          "metadata": {
            "needs_background": "light"
          }
        },
        {
          "output_type": "stream",
          "name": "stdout",
          "text": [
            "Истинное математическое ожидание E =  0.453201\n",
            "Истинная дисперсия D =  0.091445\n",
            "Полученное в результате моделирования E =  5.759725\n",
            "Полученная в результате моделирования D =  60.902583\n",
            "Критерий Пирсона: 17.760056, квантиль: 43.800000\n",
            "Критерий Колмагорова: 0.134386, квантиль: 1.630000\n",
            "\n",
            "\n",
            "\n",
            "\n",
            "Логистическое распредление:\n"
          ]
        },
        {
          "output_type": "display_data",
          "data": {
            "text/plain": [
              "<Figure size 432x288 with 1 Axes>"
            ],
            "image/png": "[encoded data removed]"
          },
          "metadata": {
            "needs_background": "light"
          }
        },
        {
          "output_type": "stream",
          "name": "stdout",
          "text": [
            "Истинное математическое ожидание E =  2.000000\n",
            "Истинная дисперсия D =  29.608813\n",
            "Полученное в результате моделирования E =  1.974768\n",
            "Полученная в результате моделирования D =  28.529437\n",
            "Критерий Пирсона: 40.039632, квантиль: 43.800000\n",
            "Kolmagorov: 0.568834, квантиль: 1.630000\n"
          ]
        }
      ],
      "source": [
        "import matplotlib.pyplot as plt\n",
        "import numpy as np\n",
        "import math\n",
        "from scipy.stats import norm\n",
        "from scipy.stats import exponweib\n",
        "from scipy.stats import logistic\n",
        "\n",
        "PIRSON_QUANTIL = 43.8\n",
        "KOLMAGOROV_QUANTIL = 1.63\n",
        "INTERVALS = 30\n",
        "\n",
        "\n",
        "def pirson_stat(values, intervals, distribution, param1, param2):\n",
        "    stat = 0\n",
        "    step = (max(values) - min(values)) / intervals\n",
        "\n",
        "    x = min(values)\n",
        "    y = x + step\n",
        "    for i in range(1, INTERVALS):\n",
        "        observed = 0\n",
        "        for val in values:\n",
        "            if x < val <= y:\n",
        "                observed += 1\n",
        "\n",
        "        expected = len(values) * (distribution(y, param1, param2) - distribution(x, param1, param2))\n",
        "        stat += ((observed - expected) ** 2 + 1e-9) / (expected + 1e-9)\n",
        "        x = y\n",
        "        y += step\n",
        "\n",
        "    return stat\n",
        "\n",
        "\n",
        "def Kolmagorov(a, n, distribution, param1, param2):\n",
        "    D = 0\n",
        "    step = (max(a) - min(a)) / INTERVALS\n",
        "    count = 0\n",
        "    x = min(a)\n",
        "\n",
        "    for i in range(INTERVALS):\n",
        "        for el in a:\n",
        "            if el < x:\n",
        "                count += 1\n",
        "        temp = math.fabs(count / n - (distribution(x, param1, param2)))\n",
        "        if D < temp:\n",
        "            D = temp\n",
        "        count = 0\n",
        "        x += step\n",
        "\n",
        "    return D * math.sqrt(n)\n",
        "\n",
        "\n",
        "m = 4\n",
        "s = 25\n",
        "\n",
        "\n",
        "def normal_func(x, m, s):\n",
        "    return norm.cdf(x=x, loc=m, scale=s)\n",
        "\n",
        "\n",
        "print(\"\\n\\n\\nНормальное распределние:\")\n",
        "normal_arr = norm.rvs(m, s ** 0.5, size=1000)\n",
        "E = sum(normal_arr) / len(normal_arr)\n",
        "D = sum((x - E) ** 2 for x in normal_arr) / len(normal_arr)\n",
        "plt.hist(normal_arr, bins=np.arange(min(normal_arr), max(normal_arr) + 1, 1))\n",
        "plt.show()\n",
        "print(\"Истинное математическое ожидание E =  %f\" % (m))\n",
        "print(\"Истинная дисперсия D =  %f\" % (s))\n",
        "print(\"Полученное в результате моделирования E =  %f\" % (E))\n",
        "print(\"Полученная в результате моделирования D =  %f\" % (D))\n",
        "pirson = pirson_stat(normal_arr, INTERVALS, normal_func, m, s ** 0.5)\n",
        "kolmagorov = Kolmagorov(normal_arr, 1000, normal_func, m, s ** 0.5)\n",
        "print(\"Критерий Пирсона: %f, квантиль: %f\" % (pirson, PIRSON_QUANTIL))\n",
        "print(\"Критерий Колмагорова: %f, квантиль: %f\" % (kolmagorov, KOLMAGOROV_QUANTIL))\n",
        "\n",
        "alpha = 4\n",
        "beta = 0.5\n",
        "\n",
        "\n",
        "def weibull_func(x, a, b):\n",
        "    return exponweib.cdf(x=x, a=alpha, c=beta)\n",
        "\n",
        "\n",
        "print(\"\\n\\n\\nРаспределение Вейбулла:\")\n",
        "weibull_arr = exponweib.rvs(a=alpha, c=beta, size=1000)\n",
        "plt.hist(weibull_arr, bins=np.arange(min(weibull_arr), max(weibull_arr) + 1, 1))\n",
        "plt.show()\n",
        "\n",
        "E = sum(weibull_arr) / len(weibull_arr)\n",
        "D = sum((x - E) ** 2 for x in weibull_arr) / len(weibull_arr)\n",
        "\n",
        "E_ = beta * math.gamma(1 + 1 / alpha)\n",
        "D_ = beta ** (-2 / alpha) * (math.gamma(1 + 2 / alpha) - math.gamma(1 + 1 / alpha) ** 2)\n",
        "print(\"Истинное математическое ожидание E =  %f\" % (E_))\n",
        "print(\"Истинная дисперсия D =  %f\" % (D_))\n",
        "print(\"Полученное в результате моделирования E =  %f\" % (E))\n",
        "print(\"Полученная в результате моделирования D =  %f\" % (D))\n",
        "pirson = pirson_stat(weibull_arr, INTERVALS, weibull_func, alpha, beta)\n",
        "kolmagorov = Kolmagorov(weibull_arr, 1000, weibull_func, alpha, beta)\n",
        "print(\"Критерий Пирсона: %f, квантиль: %f\" % (pirson, PIRSON_QUANTIL))\n",
        "print(\"Критерий Колмагорова: %f, квантиль: %f\" % (kolmagorov, KOLMAGOROV_QUANTIL))\n",
        "\n",
        "alpha = 2\n",
        "beta = 3\n",
        "\n",
        "\n",
        "def logistic_func(x, a, b):\n",
        "    return logistic.cdf(x=x, loc=a, scale=b)\n",
        "\n",
        "\n",
        "\n",
        "print(\"\\n\\n\\n\\nЛогистическое распредление:\")\n",
        "logistic_arr = logistic.rvs(alpha, beta, size=1000)\n",
        "plt.hist(logistic_arr, bins=np.arange(min(logistic_arr), max(logistic_arr) + 1, 1))\n",
        "plt.show()\n",
        "\n",
        "E = sum(logistic_arr) / len(logistic_arr)\n",
        "D = sum((x - E) ** 2 for x in logistic_arr) / len(logistic_arr)\n",
        "E_ = alpha\n",
        "D_ = math.pi ** 2 * beta ** 2 / 3\n",
        "\n",
        "\n",
        "print(\"Истинное математическое ожидание E =  %f\" % (E_))\n",
        "print(\"Истинная дисперсия D =  %f\" % (D_))\n",
        "print(\"Полученное в результате моделирования E =  %f\" % (E))\n",
        "print(\"Полученная в результате моделирования D =  %f\" % (D))\n",
        "pirson = pirson_stat(logistic_arr, INTERVALS, logistic_func, alpha, beta)\n",
        "kolmagorov = Kolmagorov(logistic_arr, 1000, logistic_func, alpha, beta)\n",
        "print(\"Критерий Пирсона: %f, квантиль: %f\" % (pirson, PIRSON_QUANTIL))\n",
        "print(\"Kolmagorov: %f, квантиль: %f\" % (kolmagorov, KOLMAGOROV_QUANTIL))\n"
      ]
    },
    {
      "cell_type": "code",
      "source": [
        ""
      ],
      "metadata": {
        "id": "Ld5WwoBRUa2H"
      },
      "execution_count": null,
      "outputs": []
    }
  ]
}