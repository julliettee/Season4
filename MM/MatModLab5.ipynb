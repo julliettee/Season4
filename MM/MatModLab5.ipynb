{
  "nbformat": 4,
  "nbformat_minor": 0,
  "metadata": {
    "colab": {
      "name": "Lab5.ipynb",
      "provenance": []
    },
    "kernelspec": {
      "name": "python3",
      "display_name": "Python 3"
    },
    "language_info": {
      "name": "python"
    }
  },
  "cells": [
    {
      "cell_type": "markdown",
      "source": [
        "# Лабораторная работа №5. Метод Монте-Карло\n",
        "\n",
        "Решить систему линейных уравнений, используя метод Монте-Карло. \n",
        "\n",
        "1.\tРешить систему линейных алгебраических уравнений   методом Монте-Карло. \n",
        "2.\tСравнить с решением данного уравнения, полученным в произвольном математическом пакете.\n",
        "3.\tПостроить график зависимости точности решения от длины цепи маркова и числа смоделированных цепей маркова.\n"
      ],
      "metadata": {
        "id": "rs3XJFKDR-BA"
      }
    },
    {
      "cell_type": "code",
      "execution_count": null,
      "metadata": {
        "id": "gsoIl4HBSOM3"
      },
      "outputs": [],
      "source": [
        "import random\n",
        "from scipy.linalg import solve\n",
        "from matplotlib import pyplot\n",
        "\n",
        "x = [[]]\n",
        "\n",
        "def step_markov(state, P, size):\n",
        "    r = random.random()\n",
        "    for i in range(size):\n",
        "        r -= P[state][i]\n",
        "        if r <= 0:\n",
        "            return i\n",
        "    return size - 1\n",
        "\n",
        "\n",
        "def model_markov(A, f, P, start, depth):\n",
        "    Q = 1\n",
        "    sum = 0\n",
        "    old = start\n",
        "\n",
        "    for i in range(depth):\n",
        "        new = step_markov(old, P, len(P[old]))\n",
        "\n",
        "        if P[old][new] > 0:\n",
        "            Q = Q * A[old][new] / P[old][new]\n",
        "        else:\n",
        "            Q = 0\n",
        "        sum += Q * f[new]\n",
        "        old = new\n",
        "\n",
        "    return sum\n",
        "\n",
        "\n",
        "def slae_solve(A, f, depth, iterations):\n",
        "    P = []\n",
        "    size = len(A)\n",
        "    B = []\n",
        "\n",
        "    for i in range(size):\n",
        "        B.append([])\n",
        "        P.append([])\n",
        "        for j in range(size):\n",
        "            if i == j:\n",
        "                B[i].append(1 - A[i][j])\n",
        "            else:\n",
        "                B[i].append(-A[i][j])\n",
        "            P[i].append(1 / size)\n",
        "\n",
        "    answer = []\n",
        "    for coord in range(size):\n",
        "        sum = 0\n",
        "        x.append([])\n",
        "        for i in range(iterations):\n",
        "            e = model_markov(B, f, P, coord, depth)\n",
        "            sum += e\n",
        "            x[coord].append(f[coord] + sum / iterations)\n",
        "\n",
        "        answer.append(f[coord] + sum / iterations)\n",
        "    return answer\n",
        "\n",
        "A = [\n",
        "    [0.7, -0.2, 0.3],\n",
        "    [0.5, 1.3, 0.1],\n",
        "    [-0.1, 0.4, 1.3]\n",
        "]\n",
        "f = [-2, -3,2]\n",
        "\n",
        "result = slae_solve(A, f, 100, 10000)\n",
        "\n",
        "\n"
      ]
    },
    {
      "cell_type": "code",
      "source": [
        "print(\"My result:\")\n",
        "print(result)\n",
        "pythonX = solve(A, f)\n",
        "print(\"Python result:\")\n",
        "print(pythonX)"
      ],
      "metadata": {
        "colab": {
          "base_uri": "https://localhost:8080/"
        },
        "id": "QqCPoelUaNfy",
        "outputId": "78f33db7-ca12-48e5-d25d-07f1c9455368"
      },
      "execution_count": null,
      "outputs": [
        {
          "output_type": "stream",
          "name": "stdout",
          "text": [
            "My result:\n",
            "[-3.8102584345897776, -0.966696178752255, 1.5146890376761246]\n",
            "Python result:\n",
            "[-3.7950938  -0.96681097  1.54401154]\n"
          ]
        }
      ]
    },
    {
      "cell_type": "code",
      "source": [
        "\n",
        "pyplot.subplot(1,3,1)\n",
        "pyplot.title(\"x1\")\n",
        "pyplot.plot(x[0])\n",
        "\n",
        "pyplot.subplot(1,3,2)\n",
        "pyplot.title(\"x2\")\n",
        "pyplot.plot(x[1])\n",
        "\n",
        "pyplot.subplot(1,3,3)\n",
        "pyplot.title(\"x3\")\n",
        "pyplot.plot(x[2])\n",
        "\n",
        "pyplot.show()"
      ],
      "metadata": {
        "colab": {
          "base_uri": "https://localhost:8080/",
          "height": 281
        },
        "id": "Tw3seA2uaQaF",
        "outputId": "b7d417d4-fb37-4ed9-c963-6263815fad18"
      },
      "execution_count": null,
      "outputs": [
        {
          "output_type": "display_data",
          "data": {
            "text/plain": [
              "<Figure size 432x288 with 3 Axes>"
            ],
            "image/png": "[encoded data removed]"
          },
          "metadata": {
            "needs_background": "light"
          }
        }
      ]
    },
    {
      "cell_type": "code",
      "source": [
        "import math\n",
        "print((math.sin(0.235)*(math.exp()**0.235)/0.235 + math.sin(0.125)*(math.exp()**0.125)/0.125 + math.sin(0.48)*(math.exp()**0.48)/0.48 + math.sin(0.781)*(math.exp()**0.781)/0.781 + math.sin(0.930)*(math.exp()**0.93)/0.930) /5)"
      ],
      "metadata": {
        "colab": {
          "base_uri": "https://localhost:8080/"
        },
        "id": "VSMt4FCJidcd",
        "outputId": "e7050961-d71b-4e6a-a06c-59329aa220f1"
      },
      "execution_count": null,
      "outputs": [
        {
          "output_type": "stream",
          "name": "stdout",
          "text": [
            "0.9427223158016724\n"
          ]
        }
      ]
    }
  ]
}