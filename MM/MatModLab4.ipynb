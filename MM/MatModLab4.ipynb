{
  "nbformat": 4,
  "nbformat_minor": 0,
  "metadata": {
    "colab": {
      "name": "Untitled4.ipynb",
      "provenance": []
    },
    "kernelspec": {
      "name": "python3",
      "display_name": "Python 3"
    },
    "language_info": {
      "name": "python"
    }
  },
  "cells": [
    {
      "cell_type": "markdown",
      "source": [
        "# **Метод Монте-Карло.** \n",
        "## Вариант 3"
      ],
      "metadata": {
        "id": "m0HDDkVa4CXI"
      }
    },
    {
      "cell_type": "markdown",
      "source": [
        "Интеграл №1.\n",
        "\n",
        "$\\Large \\int\\limits_2^{∞} \\frac{tan(\\frac{1}{x})}{x^2+x-3} dx \\;\\;\\; $\n",
        "\n",
        "В качестве функции $p(x) $ возьмем функцию $p(x) = \\frac{2}{x^2}$,  $\\int\\limits_2^{∞} \\frac{2}{x^2} dx = 1 $\n",
        "\n",
        "Тогда $g(x) = \\frac{2tan(\\frac{1}{x})}{2+\\frac{2}{x}-\\frac{6}{x^2}}$\n"
      ],
      "metadata": {
        "id": "nY86tOfX4V4d"
      }
    },
    {
      "cell_type": "code",
      "execution_count": null,
      "metadata": {
        "colab": {
          "base_uri": "https://localhost:8080/"
        },
        "id": "VkorQz2V3-0r",
        "outputId": "faa9f359-0f7c-4e42-df39-6fb370c97e5e"
      },
      "outputs": [
        {
          "output_type": "stream",
          "name": "stdout",
          "text": [
            "0.13815375968529026\n"
          ]
        }
      ],
      "source": [
        "import random\n",
        "import math\n",
        "N = 50000\n",
        "a = [0] * N\n",
        "for i in range(N):\n",
        "  a[i] = 2 + random.randint(0, 5000) / 319\n",
        "  #print(a[i])\n",
        "s = 0\n",
        "for i in range(N):\n",
        "  x = a[i]\n",
        "  cur = 2 * math.tan(1/x)/(2 + 2/x - (6/(x**2)))\n",
        "  s += cur\n",
        "monte_karlo_1 = s / N\n",
        "print(monte_karlo_1)"
      ]
    },
    {
      "cell_type": "markdown",
      "source": [
        "Воспользовавшись Wolfram Alpha нфйдем точное значение интеграла:\n",
        "\n",
        "![image.png](data:image/png;base64,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)"
      ],
      "metadata": {
        "id": "Q9PKq4QD_Elm"
      }
    },
    {
      "cell_type": "markdown",
      "source": [
        "Как видим, наш ответ и точное значение получились близкими друг к другу."
      ],
      "metadata": {
        "id": "bBy6selS_WCR"
      }
    },
    {
      "cell_type": "markdown",
      "source": [
        "Построим график зависимости точности вычисленного методом Монте-Карло интеграла от числа итераций n.  "
      ],
      "metadata": {
        "id": "8CjrJLSvA0OG"
      }
    },
    {
      "cell_type": "code",
      "source": [
        "from numpy import random\n",
        "from matplotlib import pyplot as plt\n",
        "_, ax = plt.subplots()\n",
        "\n",
        "integral = 0.138364\n",
        "steps = [100, 200, 300, 400, 500, 1000, 1500, 2000, 2500, 3500, 4500, 6000, 10000]\n",
        "calc_errors = []\n",
        "for N in steps:\n",
        "    for i in range(N):\n",
        "      x = a[i]\n",
        "      cur = 2 * math.tan(1/x)/(2 + 2/x - (6/(x**2)))\n",
        "      s += cur\n",
        "    monte_karlo = s / N\n",
        "    calc_errors.append(monte_karlo - integral)\n",
        "    \n",
        "    \n",
        "ax.plot(steps, calc_errors, lw = 2, color = '#539caf', alpha = 1)"
      ],
      "metadata": {
        "colab": {
          "base_uri": "https://localhost:8080/",
          "height": 282
        },
        "id": "MmRiemsP_Lce",
        "outputId": "880bf9f9-74da-491b-b9d1-aa363f2f73f7"
      },
      "execution_count": null,
      "outputs": [
        {
          "output_type": "execute_result",
          "data": {
            "text/plain": [
              "[<matplotlib.lines.Line2D at 0x7fbd5baba410>]"
            ]
          },
          "metadata": {},
          "execution_count": 3
        },
        {
          "output_type": "display_data",
          "data": {
            "text/plain": [
              "<Figure size 432x288 with 1 Axes>"
            ],
            "image/png": "[encoded data removed]"
          },
          "metadata": {
            "needs_background": "light"
          }
        }
      ]
    },
    {
      "cell_type": "markdown",
      "source": [
        "Как видим, чем больше итераций, тем меньше погрешность."
      ],
      "metadata": {
        "id": "xB_P_VxNBCE7"
      }
    },
    {
      "cell_type": "markdown",
      "source": [
        "Интеграл №2.\n",
        "\n",
        "$ \\Large  \\int\\limits_{-3}^{4} \\int\\limits_{-4}^{3} \\frac{4 + x}{x^2+y^4+1} dx dy \\;\\;\\; $\n",
        "\n",
        "В качестве функции $p(x) $ возьмем функцию $p(x) = \\frac{1}{49}$,  $\\int\\limits_{-3}^{4} \\int\\limits_{-4}^{3} \\frac{1}{49} dx = 1 $\n",
        "\n",
        "Тогда $g(x) = \\frac{4 + x}{49 *(x^2+y^4+1)}$"
      ],
      "metadata": {
        "id": "hSX9jPj4BLdm"
      }
    },
    {
      "cell_type": "code",
      "source": [
        "N = 200000\n",
        "a = [0] * N\n",
        "b = [0] * N\n",
        "for i in range(N):\n",
        "  a[i] =  random.uniform(-4, 3) \n",
        "  b[i] = random.uniform(-3, 4) \n",
        "  #print(a[i])\n",
        "s = 0\n",
        "for i in range(N):\n",
        "  x = a[i]\n",
        "  y = b[i]\n",
        "  cur =  49 * (4+x) /((x*x + (y*y*y*y) + 1))\n",
        "  s += cur\n",
        "monte_karlo_2 = s / N\n",
        "print(monte_karlo_2)"
      ],
      "metadata": {
        "colab": {
          "base_uri": "https://localhost:8080/"
        },
        "id": "9GtIDz4bGeSY",
        "outputId": "46d90804-73c8-4546-b1ff-6085ad496f03"
      },
      "execution_count": null,
      "outputs": [
        {
          "output_type": "stream",
          "name": "stdout",
          "text": [
            "26.11359949330261\n"
          ]
        }
      ]
    },
    {
      "cell_type": "markdown",
      "source": [
        "Воспользовавшись Wolfram Alpha нфйдем точное значение интеграла:\n",
        "\n",
        "![image.png](data:image/png;base64,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)"
      ],
      "metadata": {
        "id": "pBQmuEK4QpFn"
      }
    },
    {
      "cell_type": "markdown",
      "source": [
        "Как видим, наш ответ и точное значение получились близкими друг к другу.\n",
        "\n",
        "Построим график зависимости точности вычисленного методом Монте-Карло интеграла от числа итераций n."
      ],
      "metadata": {
        "id": "R0cwMe-QQ1aB"
      }
    },
    {
      "cell_type": "code",
      "source": [
        "from numpy import random\n",
        "from matplotlib import pyplot as plt\n",
        "_, ax = plt.subplots()\n",
        "\n",
        "integral = 26.1514\n",
        "steps = [100, 200, 300, 400, 500, 1000, 1500, 2000, 2500, 3500, 4500, 6000, 10000]\n",
        "calc_errors = []\n",
        "for N in steps:\n",
        "    for i in range(N):\n",
        "       x = a[i]\n",
        "       y = b[i]\n",
        "       cur =  49 * (4+x) /((x*x + (y*y*y*y) + 1))\n",
        "       s += cur\n",
        "    monte_karlo = s / N\n",
        "    calc_errors.append(monte_karlo - integral)\n",
        "    \n",
        "    \n",
        "ax.plot(steps, calc_errors, lw = 2, color = '#539caf', alpha = 1)"
      ],
      "metadata": {
        "colab": {
          "base_uri": "https://localhost:8080/",
          "height": 282
        },
        "id": "8eJ7EEfmQpoB",
        "outputId": "40dfd018-1464-4e8e-831e-700997cb13b4"
      },
      "execution_count": null,
      "outputs": [
        {
          "output_type": "execute_result",
          "data": {
            "text/plain": [
              "[<matplotlib.lines.Line2D at 0x7fbd5b1f2090>]"
            ]
          },
          "metadata": {},
          "execution_count": 13
        },
        {
          "output_type": "display_data",
          "data": {
            "text/plain": [
              "<Figure size 432x288 with 1 Axes>"
            ],
            "image/png": "[encoded data removed]"
          },
          "metadata": {
            "needs_background": "light"
          }
        }
      ]
    }
  ]
}